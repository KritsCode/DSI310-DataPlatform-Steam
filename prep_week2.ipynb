{
 "cells": [
  {
   "cell_type": "code",
   "execution_count": 2,
   "metadata": {},
   "outputs": [],
   "source": [
    "import pandas as pd\n",
    "import numpy as np"
   ]
  },
  {
   "cell_type": "code",
   "execution_count": 17,
   "metadata": {},
   "outputs": [
    {
     "data": {
      "text/html": [
       "<div>\n",
       "<style scoped>\n",
       "    .dataframe tbody tr th:only-of-type {\n",
       "        vertical-align: middle;\n",
       "    }\n",
       "\n",
       "    .dataframe tbody tr th {\n",
       "        vertical-align: top;\n",
       "    }\n",
       "\n",
       "    .dataframe thead th {\n",
       "        text-align: right;\n",
       "    }\n",
       "</style>\n",
       "<table border=\"1\" class=\"dataframe\">\n",
       "  <thead>\n",
       "    <tr style=\"text-align: right;\">\n",
       "      <th></th>\n",
       "      <th>url</th>\n",
       "      <th>title</th>\n",
       "      <th>tag</th>\n",
       "      <th>price</th>\n",
       "    </tr>\n",
       "  </thead>\n",
       "  <tbody>\n",
       "    <tr>\n",
       "      <th>0</th>\n",
       "      <td>https://store.steampowered.com/app/1712830/Bal...</td>\n",
       "      <td>Baldi's Basics Classic Remastered</td>\n",
       "      <td>Horror,Stealth,Action,Parody,Retro,Funny,FPS,H...</td>\n",
       "      <td>NaN</td>\n",
       "    </tr>\n",
       "    <tr>\n",
       "      <th>1</th>\n",
       "      <td>https://store.steampowered.com/app/1997040/MAR...</td>\n",
       "      <td>MARVEL SNAP</td>\n",
       "      <td>Strategy,Card Battler,Casual,PvP,Card Game,Tur...</td>\n",
       "      <td>NaN</td>\n",
       "    </tr>\n",
       "    <tr>\n",
       "      <th>2</th>\n",
       "      <td>https://store.steampowered.com/app/551170/Onmy...</td>\n",
       "      <td>Onmyoji</td>\n",
       "      <td>RPG,Free to Play,Anime,Strategy,Turn-Based,Adv...</td>\n",
       "      <td>NaN</td>\n",
       "    </tr>\n",
       "    <tr>\n",
       "      <th>3</th>\n",
       "      <td>https://store.steampowered.com/app/1811260/EA_...</td>\n",
       "      <td>EA SPORTS™ FIFA 23</td>\n",
       "      <td>Sports,Soccer,Immersive Sim,Football,Managemen...</td>\n",
       "      <td>฿1,899.00,฿2,499.00</td>\n",
       "    </tr>\n",
       "    <tr>\n",
       "      <th>4</th>\n",
       "      <td>https://store.steampowered.com/app/460930/Tom_...</td>\n",
       "      <td>Tom Clancy's Ghost Recon® Wildlands</td>\n",
       "      <td>Open World,Shooter,Co-op,Multiplayer,Action,St...</td>\n",
       "      <td>฿1,340.00,฿1,870.00,฿2,670.00,฿2,670.00</td>\n",
       "    </tr>\n",
       "  </tbody>\n",
       "</table>\n",
       "</div>"
      ],
      "text/plain": [
       "                                                 url  \\\n",
       "0  https://store.steampowered.com/app/1712830/Bal...   \n",
       "1  https://store.steampowered.com/app/1997040/MAR...   \n",
       "2  https://store.steampowered.com/app/551170/Onmy...   \n",
       "3  https://store.steampowered.com/app/1811260/EA_...   \n",
       "4  https://store.steampowered.com/app/460930/Tom_...   \n",
       "\n",
       "                                 title  \\\n",
       "0    Baldi's Basics Classic Remastered   \n",
       "1                          MARVEL SNAP   \n",
       "2                              Onmyoji   \n",
       "3                   EA SPORTS™ FIFA 23   \n",
       "4  Tom Clancy's Ghost Recon® Wildlands   \n",
       "\n",
       "                                                 tag  \\\n",
       "0  Horror,Stealth,Action,Parody,Retro,Funny,FPS,H...   \n",
       "1  Strategy,Card Battler,Casual,PvP,Card Game,Tur...   \n",
       "2  RPG,Free to Play,Anime,Strategy,Turn-Based,Adv...   \n",
       "3  Sports,Soccer,Immersive Sim,Football,Managemen...   \n",
       "4  Open World,Shooter,Co-op,Multiplayer,Action,St...   \n",
       "\n",
       "                                     price  \n",
       "0                                      NaN  \n",
       "1                                      NaN  \n",
       "2                                      NaN  \n",
       "3                      ฿1,899.00,฿2,499.00  \n",
       "4  ฿1,340.00,฿1,870.00,฿2,670.00,฿2,670.00  "
      ]
     },
     "execution_count": 17,
     "metadata": {},
     "output_type": "execute_result"
    }
   ],
   "source": [
    "df = pd.read_csv('steamtest11.csv')\n",
    "df.head()"
   ]
  },
  {
   "cell_type": "code",
   "execution_count": 18,
   "metadata": {},
   "outputs": [
    {
     "data": {
      "text/html": [
       "<div>\n",
       "<style scoped>\n",
       "    .dataframe tbody tr th:only-of-type {\n",
       "        vertical-align: middle;\n",
       "    }\n",
       "\n",
       "    .dataframe tbody tr th {\n",
       "        vertical-align: top;\n",
       "    }\n",
       "\n",
       "    .dataframe thead th {\n",
       "        text-align: right;\n",
       "    }\n",
       "</style>\n",
       "<table border=\"1\" class=\"dataframe\">\n",
       "  <thead>\n",
       "    <tr style=\"text-align: right;\">\n",
       "      <th></th>\n",
       "      <th>url</th>\n",
       "      <th>title</th>\n",
       "      <th>tag</th>\n",
       "      <th>price</th>\n",
       "    </tr>\n",
       "  </thead>\n",
       "  <tbody>\n",
       "    <tr>\n",
       "      <th>0</th>\n",
       "      <td>https://store.steampowered.com/app/1712830/Bal...</td>\n",
       "      <td>Baldi's Basics Classic Remastered</td>\n",
       "      <td>[Horror, Stealth, Action, Parody, Retro, Funny...</td>\n",
       "      <td>NaN</td>\n",
       "    </tr>\n",
       "    <tr>\n",
       "      <th>1</th>\n",
       "      <td>https://store.steampowered.com/app/1997040/MAR...</td>\n",
       "      <td>MARVEL SNAP</td>\n",
       "      <td>[Strategy, Card Battler, Casual, PvP, Card Gam...</td>\n",
       "      <td>NaN</td>\n",
       "    </tr>\n",
       "    <tr>\n",
       "      <th>2</th>\n",
       "      <td>https://store.steampowered.com/app/551170/Onmy...</td>\n",
       "      <td>Onmyoji</td>\n",
       "      <td>[RPG, Free to Play, Anime, Strategy, Turn-Base...</td>\n",
       "      <td>NaN</td>\n",
       "    </tr>\n",
       "  </tbody>\n",
       "</table>\n",
       "</div>"
      ],
      "text/plain": [
       "                                                 url  \\\n",
       "0  https://store.steampowered.com/app/1712830/Bal...   \n",
       "1  https://store.steampowered.com/app/1997040/MAR...   \n",
       "2  https://store.steampowered.com/app/551170/Onmy...   \n",
       "\n",
       "                               title  \\\n",
       "0  Baldi's Basics Classic Remastered   \n",
       "1                        MARVEL SNAP   \n",
       "2                            Onmyoji   \n",
       "\n",
       "                                                 tag price  \n",
       "0  [Horror, Stealth, Action, Parody, Retro, Funny...   NaN  \n",
       "1  [Strategy, Card Battler, Casual, PvP, Card Gam...   NaN  \n",
       "2  [RPG, Free to Play, Anime, Strategy, Turn-Base...   NaN  "
      ]
     },
     "execution_count": 18,
     "metadata": {},
     "output_type": "execute_result"
    }
   ],
   "source": [
    "for i in range(len(df['tag'])):\n",
    "    df['tag'][i] = df['tag'][i].split(\",\")\n",
    "\n",
    "df.head(3)"
   ]
  },
  {
   "cell_type": "code",
   "execution_count": 27,
   "metadata": {},
   "outputs": [],
   "source": [
    "values = {\"price\": 0}\n",
    "df = df.fillna(value=values)\n"
   ]
  },
  {
   "cell_type": "code",
   "execution_count": 28,
   "metadata": {},
   "outputs": [],
   "source": [
    "lens = list(map(len, df['tag'].values))\n",
    "\n",
    "res = pd.DataFrame({'url': np.repeat(\n",
    "    df['url'], lens),'title': np.repeat(\n",
    "    df['title'], lens), \n",
    "    'tag': np.concatenate(df['tag'].values), \n",
    "    'price': np.repeat(df['price'], lens)})\n"
   ]
  },
  {
   "cell_type": "code",
   "execution_count": 29,
   "metadata": {},
   "outputs": [
    {
     "data": {
      "text/html": [
       "<div>\n",
       "<style scoped>\n",
       "    .dataframe tbody tr th:only-of-type {\n",
       "        vertical-align: middle;\n",
       "    }\n",
       "\n",
       "    .dataframe tbody tr th {\n",
       "        vertical-align: top;\n",
       "    }\n",
       "\n",
       "    .dataframe thead th {\n",
       "        text-align: right;\n",
       "    }\n",
       "</style>\n",
       "<table border=\"1\" class=\"dataframe\">\n",
       "  <thead>\n",
       "    <tr style=\"text-align: right;\">\n",
       "      <th></th>\n",
       "      <th>url</th>\n",
       "      <th>title</th>\n",
       "      <th>tag</th>\n",
       "      <th>price</th>\n",
       "    </tr>\n",
       "  </thead>\n",
       "  <tbody>\n",
       "    <tr>\n",
       "      <th>0</th>\n",
       "      <td>https://store.steampowered.com/app/1712830/Bal...</td>\n",
       "      <td>Baldi's Basics Classic Remastered</td>\n",
       "      <td>Horror</td>\n",
       "      <td>0</td>\n",
       "    </tr>\n",
       "    <tr>\n",
       "      <th>0</th>\n",
       "      <td>https://store.steampowered.com/app/1712830/Bal...</td>\n",
       "      <td>Baldi's Basics Classic Remastered</td>\n",
       "      <td>Stealth</td>\n",
       "      <td>0</td>\n",
       "    </tr>\n",
       "    <tr>\n",
       "      <th>0</th>\n",
       "      <td>https://store.steampowered.com/app/1712830/Bal...</td>\n",
       "      <td>Baldi's Basics Classic Remastered</td>\n",
       "      <td>Action</td>\n",
       "      <td>0</td>\n",
       "    </tr>\n",
       "    <tr>\n",
       "      <th>0</th>\n",
       "      <td>https://store.steampowered.com/app/1712830/Bal...</td>\n",
       "      <td>Baldi's Basics Classic Remastered</td>\n",
       "      <td>Parody</td>\n",
       "      <td>0</td>\n",
       "    </tr>\n",
       "    <tr>\n",
       "      <th>0</th>\n",
       "      <td>https://store.steampowered.com/app/1712830/Bal...</td>\n",
       "      <td>Baldi's Basics Classic Remastered</td>\n",
       "      <td>Retro</td>\n",
       "      <td>0</td>\n",
       "    </tr>\n",
       "  </tbody>\n",
       "</table>\n",
       "</div>"
      ],
      "text/plain": [
       "                                                 url  \\\n",
       "0  https://store.steampowered.com/app/1712830/Bal...   \n",
       "0  https://store.steampowered.com/app/1712830/Bal...   \n",
       "0  https://store.steampowered.com/app/1712830/Bal...   \n",
       "0  https://store.steampowered.com/app/1712830/Bal...   \n",
       "0  https://store.steampowered.com/app/1712830/Bal...   \n",
       "\n",
       "                               title      tag price  \n",
       "0  Baldi's Basics Classic Remastered   Horror     0  \n",
       "0  Baldi's Basics Classic Remastered  Stealth     0  \n",
       "0  Baldi's Basics Classic Remastered   Action     0  \n",
       "0  Baldi's Basics Classic Remastered   Parody     0  \n",
       "0  Baldi's Basics Classic Remastered    Retro     0  "
      ]
     },
     "execution_count": 29,
     "metadata": {},
     "output_type": "execute_result"
    }
   ],
   "source": [
    "res.head()"
   ]
  },
  {
   "cell_type": "code",
   "execution_count": null,
   "metadata": {},
   "outputs": [],
   "source": []
  }
 ],
 "metadata": {
  "kernelspec": {
   "display_name": "Python 3.6.13 ('mainpy')",
   "language": "python",
   "name": "python3"
  },
  "language_info": {
   "codemirror_mode": {
    "name": "ipython",
    "version": 3
   },
   "file_extension": ".py",
   "mimetype": "text/x-python",
   "name": "python",
   "nbconvert_exporter": "python",
   "pygments_lexer": "ipython3",
   "version": "3.6.13"
  },
  "orig_nbformat": 4,
  "vscode": {
   "interpreter": {
    "hash": "45af69b1c9a767b936061bed49c06025bd9a95ff555383f76da9a592e35e6831"
   }
  }
 },
 "nbformat": 4,
 "nbformat_minor": 2
}
