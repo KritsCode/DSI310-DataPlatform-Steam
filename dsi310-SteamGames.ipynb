{
 "cells": [
  {
   "cell_type": "code",
   "execution_count": 20,
   "id": "d2b0bb7c-080a-449a-9629-0fcbf337b5e5",
   "metadata": {
    "tags": []
   },
   "outputs": [],
   "source": [
    "import requests\n",
    "import json\n",
    "import csv\n",
    "import pandas as pd\n",
    "import numpy as np\n",
    "import time\n",
    "import ast"
   ]
  },
  {
   "cell_type": "code",
   "execution_count": null,
   "id": "9064a7c5-2f34-42bd-8625-38fd74d56744",
   "metadata": {},
   "outputs": [],
   "source": []
  },
  {
   "cell_type": "code",
   "execution_count": 72,
   "id": "b89c9533-91aa-4b6a-b8cb-291f8b9ab29d",
   "metadata": {},
   "outputs": [],
   "source": [
    "def r_page(page = page_global):\n",
    "    n_url = 'https://steamspy.com/api.php?request=all&page=' + str(page)\n",
    "    raw = requests.get(n_url)\n",
    "    r_json = raw.json()\n",
    "\n",
    "    return r_json\n",
    "\n",
    "# สร้าง csv ของหน้า\n",
    "def page_csv(page = page_global):\n",
    "    \n",
    "    f_name = \"r_page_\" + str(page) + \".csv\"\n",
    "\n",
    "    with open(f_name, \"w\", encoding=\"utf-8\") as file :\n",
    "        \n",
    "        r_json = r_page(page)\n",
    "\n",
    "        games_id = []\n",
    "        for key in r_json.keys():\n",
    "            games_id.append(key)\n",
    "\n",
    "        feildnames = r_json[games_id[0]].keys()\n",
    "        writer = csv.DictWriter(file, fieldnames = feildnames)\n",
    "        writer.writeheader()\n",
    "        for gameid in r_json.keys():\n",
    "            writer.writerow(r_json[gameid])\n",
    "\n",
    "    return f_name\n",
    "\n",
    "r_page_csv = page_csv()"
   ]
  },
  {
   "cell_type": "code",
   "execution_count": 44,
   "id": "267537c5-ac09-476f-9015-eb9d8a0baf72",
   "metadata": {},
   "outputs": [
    {
     "name": "stdout",
     "output_type": "stream",
     "text": [
      "Requirement already satisfied: transformers in /opt/conda/lib/python3.10/site-packages (4.23.1)\n",
      "Requirement already satisfied: torch in /opt/conda/lib/python3.10/site-packages (1.12.1)\n",
      "Requirement already satisfied: requests in /opt/conda/lib/python3.10/site-packages (from transformers) (2.28.1)\n",
      "Requirement already satisfied: numpy>=1.17 in /opt/conda/lib/python3.10/site-packages (from transformers) (1.22.4)\n",
      "Requirement already satisfied: tqdm>=4.27 in /opt/conda/lib/python3.10/site-packages (from transformers) (4.64.0)\n",
      "Requirement already satisfied: tokenizers!=0.11.3,<0.14,>=0.11.1 in /opt/conda/lib/python3.10/site-packages (from transformers) (0.13.1)\n",
      "Requirement already satisfied: regex!=2019.12.17 in /opt/conda/lib/python3.10/site-packages (from transformers) (2022.9.13)\n",
      "Requirement already satisfied: filelock in /opt/conda/lib/python3.10/site-packages (from transformers) (3.8.0)\n",
      "Requirement already satisfied: packaging>=20.0 in /opt/conda/lib/python3.10/site-packages (from transformers) (21.3)\n",
      "Requirement already satisfied: huggingface-hub<1.0,>=0.10.0 in /opt/conda/lib/python3.10/site-packages (from transformers) (0.10.1)\n",
      "Requirement already satisfied: pyyaml>=5.1 in /opt/conda/lib/python3.10/site-packages (from transformers) (6.0)\n",
      "Requirement already satisfied: typing-extensions in /opt/conda/lib/python3.10/site-packages (from torch) (4.3.0)\n",
      "Requirement already satisfied: pyparsing!=3.0.5,>=2.0.2 in /opt/conda/lib/python3.10/site-packages (from packaging>=20.0->transformers) (3.0.9)\n",
      "Requirement already satisfied: idna<4,>=2.5 in /opt/conda/lib/python3.10/site-packages (from requests->transformers) (3.3)\n",
      "Requirement already satisfied: certifi>=2017.4.17 in /opt/conda/lib/python3.10/site-packages (from requests->transformers) (2022.6.15)\n",
      "Requirement already satisfied: charset-normalizer<3,>=2 in /opt/conda/lib/python3.10/site-packages (from requests->transformers) (2.1.0)\n",
      "Requirement already satisfied: urllib3<1.27,>=1.21.1 in /opt/conda/lib/python3.10/site-packages (from requests->transformers) (1.26.11)\n",
      "Requirement already satisfied: sentencepiece in /opt/conda/lib/python3.10/site-packages (0.1.97)\n"
     ]
    }
   ],
   "source": [
    "!pip install transformers torch\n",
    "!pip install sentencepiece"
   ]
  },
  {
   "cell_type": "code",
   "execution_count": 73,
   "id": "75b597bb-da38-40b6-93ef-438890dab0d8",
   "metadata": {},
   "outputs": [],
   "source": [
    "df = pd.read_csv('r_page_0.csv')\n",
    "df.to_parquet('r_page_0.parquet')"
   ]
  },
  {
   "cell_type": "code",
   "execution_count": 59,
   "id": "4d8d80dd-78cb-486e-9945-e29f61e3ffe8",
   "metadata": {},
   "outputs": [],
   "source": [
    "from dsmlibrary.datanode import DataNode"
   ]
  },
  {
   "cell_type": "code",
   "execution_count": 60,
   "id": "3aa635b1-366d-4d5a-9279-a6aedfb00ed3",
   "metadata": {},
   "outputs": [
    {
     "name": "stdout",
     "output_type": "stream",
     "text": [
      "Init DataNode sucessful!\n"
     ]
    }
   ],
   "source": [
    "dir_raw_id = 105\n",
    "datanode = DataNode()"
   ]
  },
  {
   "cell_type": "code",
   "execution_count": 74,
   "id": "f3cbae5e-8ce0-44fa-b23f-f9494fd2c5e9",
   "metadata": {},
   "outputs": [
    {
     "name": "stdin",
     "output_type": "stream",
     "text": [
      "File r_page_0.parquet alrady exists, do you want to replace y/n :  y\n"
     ]
    },
    {
     "data": {
      "application/vnd.jupyter.widget-view+json": {
       "model_id": "141078e468964a0d93df7e9e76339f4b",
       "version_major": 2,
       "version_minor": 0
      },
      "text/plain": [
       "  0%|          | 0.00/84.2k [00:00<?, ?B/s]"
      ]
     },
     "metadata": {},
     "output_type": "display_data"
    },
    {
     "data": {
      "text/plain": [
       "{'id': 183,\n",
       " 'msg': 'file r_page_0.parquet create sucessful',\n",
       " 'path': 'krittapol/DSI310-23/rawData/r_page_0.parquet',\n",
       " 'uploaded': True}"
      ]
     },
     "execution_count": 74,
     "metadata": {},
     "output_type": "execute_result"
    }
   ],
   "source": [
    "datanode.upload_file(directory_id=dir_raw_id, file_path='r_page_0.parquet')\n"
   ]
  },
  {
   "cell_type": "code",
   "execution_count": 63,
   "id": "d8afc74c-6283-47ab-bddd-184321c95cac",
   "metadata": {},
   "outputs": [],
   "source": [
    "from dsmlibrary.datanode import DataNode\n",
    "import json\n",
    "from tqdm.auto import tqdm\n",
    "import pandas as pd"
   ]
  },
  {
   "cell_type": "code",
   "execution_count": 75,
   "id": "e3059831-843e-4942-86fb-9e4daec1b939",
   "metadata": {},
   "outputs": [],
   "source": [
    "dir_raw_id = 105\n",
    "dir_process_id = 110"
   ]
  },
  {
   "cell_type": "code",
   "execution_count": 76,
   "id": "c6478a0d-4e42-4527-9b4b-82d84ecc48cc",
   "metadata": {},
   "outputs": [
    {
     "name": "stdout",
     "output_type": "stream",
     "text": [
      "Init DataNode sucessful!\n"
     ]
    }
   ],
   "source": [
    "datanode = DataNode()"
   ]
  },
  {
   "cell_type": "code",
   "execution_count": 77,
   "id": "e602078b-8907-4d9f-9b6d-980726546b05",
   "metadata": {},
   "outputs": [
    {
     "data": {
      "text/plain": [
       "{'owner': 'krittapol',\n",
       " 'human_size': '132.76 KB',\n",
       " 'name': 'r_page_0.csv',\n",
       " 'description': 'file r_page_0.csv',\n",
       " 'directory': 105,\n",
       " 'path': 'krittapol/DSI310-23/rawData/r_page_0.csv'}"
      ]
     },
     "execution_count": 77,
     "metadata": {},
     "output_type": "execute_result"
    }
   ],
   "source": [
    "meta, fp = datanode.get_file(datanode.get_file_id(directory_id=dir_raw_id, name='r_page_0.csv'))\n",
    "meta"
   ]
  },
  {
   "cell_type": "code",
   "execution_count": 78,
   "id": "673f6316-8b00-418f-820f-ae0af9dd752a",
   "metadata": {},
   "outputs": [
    {
     "name": "stdin",
     "output_type": "stream",
     "text": [
      "File spo.parquet alrady exists, do you want to replace y/n :  y\n"
     ]
    },
    {
     "data": {
      "text/plain": [
       "{'sucess': True,\n",
       " 'file_id': 196,\n",
       " 'path': 'krittapol/DSI310-23/processData/spo.parquet',\n",
       " 'lineage': True}"
      ]
     },
     "execution_count": 78,
     "metadata": {},
     "output_type": "execute_result"
    }
   ],
   "source": [
    "datanode.write(df=df, directory=dir_process_id, name=\"spo\", profiling=True, lineage=[datanode.get_file_id(directory_id=dir_raw_id, name='r_page_0.csv')])\n"
   ]
  },
  {
   "cell_type": "code",
   "execution_count": null,
   "id": "e3fb9913-2fa6-41ac-b422-309cc46cbc0a",
   "metadata": {},
   "outputs": [],
   "source": []
  }
 ],
 "metadata": {
  "kernelspec": {
   "display_name": "Python 3 (ipykernel)",
   "language": "python",
   "name": "python3"
  },
  "language_info": {
   "codemirror_mode": {
    "name": "ipython",
    "version": 3
   },
   "file_extension": ".py",
   "mimetype": "text/x-python",
   "name": "python",
   "nbconvert_exporter": "python",
   "pygments_lexer": "ipython3",
   "version": "3.10.5"
  }
 },
 "nbformat": 4,
 "nbformat_minor": 5
}
