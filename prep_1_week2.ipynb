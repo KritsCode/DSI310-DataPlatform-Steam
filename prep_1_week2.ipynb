{
 "cells": [
  {
   "cell_type": "code",
   "execution_count": 51,
   "metadata": {},
   "outputs": [],
   "source": [
    "import pandas as pd\n",
    "import numpy as np"
   ]
  },
  {
   "cell_type": "code",
   "execution_count": 52,
   "metadata": {},
   "outputs": [
    {
     "data": {
      "text/html": [
       "<div>\n",
       "<style scoped>\n",
       "    .dataframe tbody tr th:only-of-type {\n",
       "        vertical-align: middle;\n",
       "    }\n",
       "\n",
       "    .dataframe tbody tr th {\n",
       "        vertical-align: top;\n",
       "    }\n",
       "\n",
       "    .dataframe thead th {\n",
       "        text-align: right;\n",
       "    }\n",
       "</style>\n",
       "<table border=\"1\" class=\"dataframe\">\n",
       "  <thead>\n",
       "    <tr style=\"text-align: right;\">\n",
       "      <th></th>\n",
       "      <th>url</th>\n",
       "      <th>title</th>\n",
       "      <th>tag</th>\n",
       "    </tr>\n",
       "  </thead>\n",
       "  <tbody>\n",
       "    <tr>\n",
       "      <th>0</th>\n",
       "      <td>https://store.steampowered.com/app/1144200/Rea...</td>\n",
       "      <td>Ready or Not</td>\n",
       "      <td>Tactical,Realistic,FPS,Multiplayer,Shooter,Co-...</td>\n",
       "    </tr>\n",
       "    <tr>\n",
       "      <th>1</th>\n",
       "      <td>https://store.steampowered.com/app/1811260/EA_...</td>\n",
       "      <td>EA SPORTS™ FIFA 23</td>\n",
       "      <td>Sports,Soccer,Immersive Sim,Football,Managemen...</td>\n",
       "    </tr>\n",
       "    <tr>\n",
       "      <th>2</th>\n",
       "      <td>https://store.steampowered.com/app/1997040/MAR...</td>\n",
       "      <td>MARVEL SNAP</td>\n",
       "      <td>Strategy,Card Battler,Casual,PvP,Turn-Based Ta...</td>\n",
       "    </tr>\n",
       "    <tr>\n",
       "      <th>3</th>\n",
       "      <td>https://store.steampowered.com/app/460930/Tom_...</td>\n",
       "      <td>Tom Clancy's Ghost Recon® Wildlands</td>\n",
       "      <td>Open World,Shooter,Co-op,Multiplayer,Action,St...</td>\n",
       "    </tr>\n",
       "    <tr>\n",
       "      <th>4</th>\n",
       "      <td>https://store.steampowered.com/app/1712830/Bal...</td>\n",
       "      <td>Baldi's Basics Classic Remastered</td>\n",
       "      <td>Stealth,Horror,Action,Parody,Retro,Funny,FPS,H...</td>\n",
       "    </tr>\n",
       "  </tbody>\n",
       "</table>\n",
       "</div>"
      ],
      "text/plain": [
       "                                                 url  \\\n",
       "0  https://store.steampowered.com/app/1144200/Rea...   \n",
       "1  https://store.steampowered.com/app/1811260/EA_...   \n",
       "2  https://store.steampowered.com/app/1997040/MAR...   \n",
       "3  https://store.steampowered.com/app/460930/Tom_...   \n",
       "4  https://store.steampowered.com/app/1712830/Bal...   \n",
       "\n",
       "                                 title  \\\n",
       "0                         Ready or Not   \n",
       "1                   EA SPORTS™ FIFA 23   \n",
       "2                          MARVEL SNAP   \n",
       "3  Tom Clancy's Ghost Recon® Wildlands   \n",
       "4    Baldi's Basics Classic Remastered   \n",
       "\n",
       "                                                 tag  \n",
       "0  Tactical,Realistic,FPS,Multiplayer,Shooter,Co-...  \n",
       "1  Sports,Soccer,Immersive Sim,Football,Managemen...  \n",
       "2  Strategy,Card Battler,Casual,PvP,Turn-Based Ta...  \n",
       "3  Open World,Shooter,Co-op,Multiplayer,Action,St...  \n",
       "4  Stealth,Horror,Action,Parody,Retro,Funny,FPS,H...  "
      ]
     },
     "execution_count": 52,
     "metadata": {},
     "output_type": "execute_result"
    }
   ],
   "source": [
    "data = pd.read_csv('steam_tag_1.csv')\n",
    "data.head()"
   ]
  },
  {
   "cell_type": "code",
   "execution_count": 53,
   "metadata": {},
   "outputs": [],
   "source": [
    "data = pd.read_csv('steam_tag_1.csv')\n",
    "for i in range(len(data['tag'])):\n",
    "    data['tag'][i] = data['tag'][i].split(\",\")"
   ]
  },
  {
   "cell_type": "code",
   "execution_count": 54,
   "metadata": {},
   "outputs": [
    {
     "data": {
      "text/html": [
       "<div>\n",
       "<style scoped>\n",
       "    .dataframe tbody tr th:only-of-type {\n",
       "        vertical-align: middle;\n",
       "    }\n",
       "\n",
       "    .dataframe tbody tr th {\n",
       "        vertical-align: top;\n",
       "    }\n",
       "\n",
       "    .dataframe thead th {\n",
       "        text-align: right;\n",
       "    }\n",
       "</style>\n",
       "<table border=\"1\" class=\"dataframe\">\n",
       "  <thead>\n",
       "    <tr style=\"text-align: right;\">\n",
       "      <th></th>\n",
       "      <th>url</th>\n",
       "      <th>title</th>\n",
       "      <th>tag</th>\n",
       "    </tr>\n",
       "  </thead>\n",
       "  <tbody>\n",
       "    <tr>\n",
       "      <th>0</th>\n",
       "      <td>https://store.steampowered.com/app/1144200/Rea...</td>\n",
       "      <td>Ready or Not</td>\n",
       "      <td>[Tactical, Realistic, FPS, Multiplayer, Shoote...</td>\n",
       "    </tr>\n",
       "    <tr>\n",
       "      <th>1</th>\n",
       "      <td>https://store.steampowered.com/app/1811260/EA_...</td>\n",
       "      <td>EA SPORTS™ FIFA 23</td>\n",
       "      <td>[Sports, Soccer, Immersive Sim, Football, Mana...</td>\n",
       "    </tr>\n",
       "    <tr>\n",
       "      <th>2</th>\n",
       "      <td>https://store.steampowered.com/app/1997040/MAR...</td>\n",
       "      <td>MARVEL SNAP</td>\n",
       "      <td>[Strategy, Card Battler, Casual, PvP, Turn-Bas...</td>\n",
       "    </tr>\n",
       "    <tr>\n",
       "      <th>3</th>\n",
       "      <td>https://store.steampowered.com/app/460930/Tom_...</td>\n",
       "      <td>Tom Clancy's Ghost Recon® Wildlands</td>\n",
       "      <td>[Open World, Shooter, Co-op, Multiplayer, Acti...</td>\n",
       "    </tr>\n",
       "    <tr>\n",
       "      <th>4</th>\n",
       "      <td>https://store.steampowered.com/app/1712830/Bal...</td>\n",
       "      <td>Baldi's Basics Classic Remastered</td>\n",
       "      <td>[Stealth, Horror, Action, Parody, Retro, Funny...</td>\n",
       "    </tr>\n",
       "  </tbody>\n",
       "</table>\n",
       "</div>"
      ],
      "text/plain": [
       "                                                 url  \\\n",
       "0  https://store.steampowered.com/app/1144200/Rea...   \n",
       "1  https://store.steampowered.com/app/1811260/EA_...   \n",
       "2  https://store.steampowered.com/app/1997040/MAR...   \n",
       "3  https://store.steampowered.com/app/460930/Tom_...   \n",
       "4  https://store.steampowered.com/app/1712830/Bal...   \n",
       "\n",
       "                                 title  \\\n",
       "0                         Ready or Not   \n",
       "1                   EA SPORTS™ FIFA 23   \n",
       "2                          MARVEL SNAP   \n",
       "3  Tom Clancy's Ghost Recon® Wildlands   \n",
       "4    Baldi's Basics Classic Remastered   \n",
       "\n",
       "                                                 tag  \n",
       "0  [Tactical, Realistic, FPS, Multiplayer, Shoote...  \n",
       "1  [Sports, Soccer, Immersive Sim, Football, Mana...  \n",
       "2  [Strategy, Card Battler, Casual, PvP, Turn-Bas...  \n",
       "3  [Open World, Shooter, Co-op, Multiplayer, Acti...  \n",
       "4  [Stealth, Horror, Action, Parody, Retro, Funny...  "
      ]
     },
     "execution_count": 54,
     "metadata": {},
     "output_type": "execute_result"
    }
   ],
   "source": [
    "data.head()"
   ]
  },
  {
   "cell_type": "code",
   "execution_count": 55,
   "metadata": {},
   "outputs": [],
   "source": [
    "lens = list(map(len, data['tag'].values))\n",
    "\n",
    "res = pd.DataFrame({'title':np.repeat(\n",
    "    data['title'], lens) ,'url': np.repeat(\n",
    "    data['url'], lens),  'tag': np.concatenate(data['tag'].values)})"
   ]
  },
  {
   "cell_type": "code",
   "execution_count": 56,
   "metadata": {},
   "outputs": [
    {
     "data": {
      "text/html": [
       "<div>\n",
       "<style scoped>\n",
       "    .dataframe tbody tr th:only-of-type {\n",
       "        vertical-align: middle;\n",
       "    }\n",
       "\n",
       "    .dataframe tbody tr th {\n",
       "        vertical-align: top;\n",
       "    }\n",
       "\n",
       "    .dataframe thead th {\n",
       "        text-align: right;\n",
       "    }\n",
       "</style>\n",
       "<table border=\"1\" class=\"dataframe\">\n",
       "  <thead>\n",
       "    <tr style=\"text-align: right;\">\n",
       "      <th></th>\n",
       "      <th>title</th>\n",
       "      <th>url</th>\n",
       "      <th>tag</th>\n",
       "    </tr>\n",
       "  </thead>\n",
       "  <tbody>\n",
       "    <tr>\n",
       "      <th>0</th>\n",
       "      <td>Ready or Not</td>\n",
       "      <td>https://store.steampowered.com/app/1144200/Rea...</td>\n",
       "      <td>Tactical</td>\n",
       "    </tr>\n",
       "    <tr>\n",
       "      <th>1</th>\n",
       "      <td>Ready or Not</td>\n",
       "      <td>https://store.steampowered.com/app/1144200/Rea...</td>\n",
       "      <td>Realistic</td>\n",
       "    </tr>\n",
       "    <tr>\n",
       "      <th>2</th>\n",
       "      <td>Ready or Not</td>\n",
       "      <td>https://store.steampowered.com/app/1144200/Rea...</td>\n",
       "      <td>FPS</td>\n",
       "    </tr>\n",
       "    <tr>\n",
       "      <th>3</th>\n",
       "      <td>Ready or Not</td>\n",
       "      <td>https://store.steampowered.com/app/1144200/Rea...</td>\n",
       "      <td>Multiplayer</td>\n",
       "    </tr>\n",
       "    <tr>\n",
       "      <th>4</th>\n",
       "      <td>Ready or Not</td>\n",
       "      <td>https://store.steampowered.com/app/1144200/Rea...</td>\n",
       "      <td>Shooter</td>\n",
       "    </tr>\n",
       "  </tbody>\n",
       "</table>\n",
       "</div>"
      ],
      "text/plain": [
       "          title                                                url  \\\n",
       "0  Ready or Not  https://store.steampowered.com/app/1144200/Rea...   \n",
       "1  Ready or Not  https://store.steampowered.com/app/1144200/Rea...   \n",
       "2  Ready or Not  https://store.steampowered.com/app/1144200/Rea...   \n",
       "3  Ready or Not  https://store.steampowered.com/app/1144200/Rea...   \n",
       "4  Ready or Not  https://store.steampowered.com/app/1144200/Rea...   \n",
       "\n",
       "           tag  \n",
       "0     Tactical  \n",
       "1    Realistic  \n",
       "2          FPS  \n",
       "3  Multiplayer  \n",
       "4      Shooter  "
      ]
     },
     "execution_count": 56,
     "metadata": {},
     "output_type": "execute_result"
    }
   ],
   "source": [
    "res.to_csv('steam_1nf.csv', index=False)\n",
    "df = pd.read_csv('steam_1nf.csv')\n",
    "df.head()"
   ]
  },
  {
   "cell_type": "code",
   "execution_count": null,
   "metadata": {},
   "outputs": [],
   "source": []
  }
 ],
 "metadata": {
  "kernelspec": {
   "display_name": "Python 3.6.13 ('mainpy')",
   "language": "python",
   "name": "python3"
  },
  "language_info": {
   "codemirror_mode": {
    "name": "ipython",
    "version": 3
   },
   "file_extension": ".py",
   "mimetype": "text/x-python",
   "name": "python",
   "nbconvert_exporter": "python",
   "pygments_lexer": "ipython3",
   "version": "3.6.13"
  },
  "orig_nbformat": 4,
  "vscode": {
   "interpreter": {
    "hash": "45af69b1c9a767b936061bed49c06025bd9a95ff555383f76da9a592e35e6831"
   }
  }
 },
 "nbformat": 4,
 "nbformat_minor": 2
}
